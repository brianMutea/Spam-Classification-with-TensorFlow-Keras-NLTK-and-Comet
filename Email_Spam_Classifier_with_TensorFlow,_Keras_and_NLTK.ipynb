{
  "nbformat": 4,
  "nbformat_minor": 0,
  "metadata": {
    "colab": {
      "provenance": [],
      "authorship_tag": "ABX9TyOGinNHv0+wgrx8pdSt79Xq",
      "include_colab_link": true
    },
    "kernelspec": {
      "name": "python3",
      "display_name": "Python 3"
    },
    "language_info": {
      "name": "python"
    }
  },
  "cells": [
    {
      "cell_type": "markdown",
      "metadata": {
        "id": "view-in-github",
        "colab_type": "text"
      },
      "source": [
        "<a href=\"https://colab.research.google.com/github/brianMutea/Spam-Classification-with-TensorFlow-Keras-NLTK-and-Comet/blob/main/Email_Spam_Classifier_with_TensorFlow%2C_Keras_and_NLTK.ipynb\" target=\"_parent\"><img src=\"https://colab.research.google.com/assets/colab-badge.svg\" alt=\"Open In Colab\"/></a>"
      ]
    },
    {
      "cell_type": "markdown",
      "source": [
        "Steps:\n",
        "\n",
        "* Glabbing a dataset\n",
        "* EDA\n",
        "* Tokenization\n",
        "* Removing stowords, punctuation and setting text to lowercase(casefold() or lower())\n",
        "* Stemming/Lemmatization(preferred)\n",
        "* Vectorizing the text(BoW or TfidfVectorizer(choice)) \n",
        "  * [Check the difference](https://github.com/brianMutea/Bag-of-Words-and-TfidfVectorizer)\n",
        "* Creating and Training the model\n",
        "* Model evaluation\n",
        "\n",
        "**Note:** For this task we will integrate with Comet Ml platform\n"
      ],
      "metadata": {
        "id": "onb4bdJ_jGv3"
      }
    },
    {
      "cell_type": "markdown",
      "source": [
        "## Comet ML \n",
        "\n",
        "To enable comet to track our entire expereiment we will wirte the follwing code below:"
      ],
      "metadata": {
        "id": "xXhS8RFjU7s7"
      }
    },
    {
      "cell_type": "code",
      "source": [
        "# if comet_ml not installed in environment, install\n",
        "\n",
        "%pip install comet_ml"
      ],
      "metadata": {
        "colab": {
          "base_uri": "https://localhost:8080/"
        },
        "id": "jWy2vHIMW_Gc",
        "outputId": "79b0eef4-bfbc-4cb8-b86d-9cc3fe80ec00"
      },
      "execution_count": null,
      "outputs": [
        {
          "output_type": "stream",
          "name": "stdout",
          "text": [
            "Looking in indexes: https://pypi.org/simple, https://us-python.pkg.dev/colab-wheels/public/simple/\n",
            "Requirement already satisfied: comet_ml in /usr/local/lib/python3.8/dist-packages (3.32.1)\n",
            "Requirement already satisfied: dulwich!=0.20.33,>=0.20.6 in /usr/local/lib/python3.8/dist-packages (from comet_ml) (0.21.2)\n",
            "Requirement already satisfied: wrapt>=1.11.2 in /usr/local/lib/python3.8/dist-packages (from comet_ml) (1.14.1)\n",
            "Requirement already satisfied: simplejson in /usr/local/lib/python3.8/dist-packages (from comet_ml) (3.18.3)\n",
            "Requirement already satisfied: wurlitzer>=1.0.2 in /usr/local/lib/python3.8/dist-packages (from comet_ml) (3.0.3)\n",
            "Requirement already satisfied: requests>=2.18.4 in /usr/local/lib/python3.8/dist-packages (from comet_ml) (2.25.1)\n",
            "Requirement already satisfied: websocket-client<1.4.0,>=0.55.0 in /usr/local/lib/python3.8/dist-packages (from comet_ml) (1.3.3)\n",
            "Requirement already satisfied: semantic-version>=2.8.0 in /usr/local/lib/python3.8/dist-packages (from comet_ml) (2.10.0)\n",
            "Requirement already satisfied: sentry-sdk>=1.1.0 in /usr/local/lib/python3.8/dist-packages (from comet_ml) (1.15.0)\n",
            "Requirement already satisfied: jsonschema!=3.1.0,>=2.6.0 in /usr/local/lib/python3.8/dist-packages (from comet_ml) (4.3.3)\n",
            "Requirement already satisfied: everett[ini]>=1.0.1 in /usr/local/lib/python3.8/dist-packages (from comet_ml) (3.1.0)\n",
            "Requirement already satisfied: requests-toolbelt>=0.8.0 in /usr/local/lib/python3.8/dist-packages (from comet_ml) (0.10.1)\n",
            "Requirement already satisfied: python-box<7.0.0 in /usr/local/lib/python3.8/dist-packages (from comet_ml) (6.1.0)\n",
            "Requirement already satisfied: six in /usr/local/lib/python3.8/dist-packages (from comet_ml) (1.15.0)\n",
            "Requirement already satisfied: urllib3>=1.25 in /usr/local/lib/python3.8/dist-packages (from dulwich!=0.20.33,>=0.20.6->comet_ml) (1.26.14)\n",
            "Requirement already satisfied: configobj in /usr/local/lib/python3.8/dist-packages (from everett[ini]>=1.0.1->comet_ml) (5.0.8)\n",
            "Requirement already satisfied: pyrsistent!=0.17.0,!=0.17.1,!=0.17.2,>=0.14.0 in /usr/local/lib/python3.8/dist-packages (from jsonschema!=3.1.0,>=2.6.0->comet_ml) (0.19.3)\n",
            "Requirement already satisfied: attrs>=17.4.0 in /usr/local/lib/python3.8/dist-packages (from jsonschema!=3.1.0,>=2.6.0->comet_ml) (22.2.0)\n",
            "Requirement already satisfied: importlib-resources>=1.4.0 in /usr/local/lib/python3.8/dist-packages (from jsonschema!=3.1.0,>=2.6.0->comet_ml) (5.10.2)\n",
            "Requirement already satisfied: certifi>=2017.4.17 in /usr/local/lib/python3.8/dist-packages (from requests>=2.18.4->comet_ml) (2022.12.7)\n",
            "Requirement already satisfied: idna<3,>=2.5 in /usr/local/lib/python3.8/dist-packages (from requests>=2.18.4->comet_ml) (2.10)\n",
            "Requirement already satisfied: chardet<5,>=3.0.2 in /usr/local/lib/python3.8/dist-packages (from requests>=2.18.4->comet_ml) (4.0.0)\n",
            "Requirement already satisfied: zipp>=3.1.0 in /usr/local/lib/python3.8/dist-packages (from importlib-resources>=1.4.0->jsonschema!=3.1.0,>=2.6.0->comet_ml) (3.12.1)\n"
          ]
        }
      ]
    },
    {
      "cell_type": "code",
      "source": [
        "import comet_ml\n",
        "\n",
        "experiment = comet_ml.Experiment(\n",
        "    api_key=\"XG22Dn8g5Yq4srM9rLFHa39JY\", #Use your api_key from your comet_profile\n",
        "    project_name=\"Email Spam Classifier\", \n",
        "    log_code=True,\n",
        "    auto_metric_logging=True,\n",
        "    auto_param_logging=True,\n",
        "    auto_histogram_weight_logging=True,\n",
        "    auto_histogram_gradient_logging=True,\n",
        "    auto_histogram_activation_logging=True,\n",
        ")"
      ],
      "metadata": {
        "colab": {
          "base_uri": "https://localhost:8080/"
        },
        "id": "g4GAcCgwU7K-",
        "outputId": "02a2a5b0-dd58-46dc-dee8-495a276d1285"
      },
      "execution_count": null,
      "outputs": [
        {
          "output_type": "stream",
          "name": "stderr",
          "text": [
            "COMET WARNING: As you are running in a Jupyter environment, you will need to call `experiment.end()` when finished to ensure all metrics and code are logged before exiting.\n",
            "COMET ERROR: Failed to calculate active processors count. Fall back to default CPU count 1\n",
            "COMET INFO: Couldn't find a Git repository in '/content' nor in any parent directory. You can override where Comet is looking for a Git Patch by setting the configuration `COMET_GIT_DIRECTORY`\n",
            "COMET INFO: Experiment is live on comet.com https://www.comet.com/b-capt/email-spam-classifier/ca367a014e914ddfb46e45d6951c257b\n",
            "\n"
          ]
        }
      ]
    },
    {
      "cell_type": "markdown",
      "source": [
        "**Importing all the required libraries and modules...**"
      ],
      "metadata": {
        "id": "98pZWNVBrg64"
      }
    },
    {
      "cell_type": "code",
      "source": [
        "# for data\n",
        "import numpy as np\n",
        "import pandas as pd\n",
        "\n",
        "# for visuals\n",
        "import matplotlib.pyplot as plt\n",
        "import seaborn as sns\n",
        "from wordcloud import WordCloud\n",
        "\n",
        "# from nltk for NLP\n",
        "import nltk\n",
        "import string # for use in punctuation removal\n",
        "from nltk.corpus import stopwords\n",
        "from nltk.tokenize import word_tokenize\n",
        "from nltk.stem import WordNetLemmatizer\n",
        "\n",
        "# text preprocessing from sklearn\n",
        "from sklearn.feature_extraction.text import TfidfVectorizer\n",
        "from sklearn.model_selection import train_test_split\n",
        "\n",
        "# for the NN\n",
        "import tensorflow as tf\n",
        "from tensorflow import keras\n",
        "from tensorflow.keras.models import Sequential\n",
        "from keras.layers import Dense\n",
        "\n",
        "# Evaluation\n",
        "from sklearn.metrics import confusion_matrix, classification_report, accuracy_score, precision_score, recall_score, f1_score"
      ],
      "metadata": {
        "id": "Rw1NLXSGrrIF"
      },
      "execution_count": 136,
      "outputs": []
    },
    {
      "cell_type": "markdown",
      "source": [
        "## The dataset\n",
        "\n",
        "**Download the dataset:**\n",
        "* https://www.kaggle.com/datasets/uciml/sms-spam-collection-dataset"
      ],
      "metadata": {
        "id": "k-5f-ihJq7Dp"
      }
    },
    {
      "cell_type": "markdown",
      "source": [],
      "metadata": {
        "id": "5dmES3K4vamW"
      }
    },
    {
      "cell_type": "markdown",
      "source": [
        "### Loading the dataset"
      ],
      "metadata": {
        "id": "TKVnE_VNrIO2"
      }
    },
    {
      "cell_type": "code",
      "execution_count": null,
      "metadata": {
        "colab": {
          "base_uri": "https://localhost:8080/",
          "height": 206
        },
        "id": "wMHspwoBi7ap",
        "outputId": "a32d6fcc-3b84-4a69-bd1c-8b5eea332889"
      },
      "outputs": [
        {
          "output_type": "execute_result",
          "data": {
            "text/plain": [
              "  label                                            message\n",
              "0   ham  Go until jurong point, crazy.. Available only ...\n",
              "1   ham                      Ok lar... Joking wif u oni...\n",
              "2  spam  Free entry in 2 a wkly comp to win FA Cup fina...\n",
              "3   ham  U dun say so early hor... U c already then say...\n",
              "4   ham  Nah I don't think he goes to usf, he lives aro..."
            ],
            "text/html": [
              "\n",
              "  <div id=\"df-ef202767-4717-41f3-9878-a2e691a64883\">\n",
              "    <div class=\"colab-df-container\">\n",
              "      <div>\n",
              "<style scoped>\n",
              "    .dataframe tbody tr th:only-of-type {\n",
              "        vertical-align: middle;\n",
              "    }\n",
              "\n",
              "    .dataframe tbody tr th {\n",
              "        vertical-align: top;\n",
              "    }\n",
              "\n",
              "    .dataframe thead th {\n",
              "        text-align: right;\n",
              "    }\n",
              "</style>\n",
              "<table border=\"1\" class=\"dataframe\">\n",
              "  <thead>\n",
              "    <tr style=\"text-align: right;\">\n",
              "      <th></th>\n",
              "      <th>label</th>\n",
              "      <th>message</th>\n",
              "    </tr>\n",
              "  </thead>\n",
              "  <tbody>\n",
              "    <tr>\n",
              "      <th>0</th>\n",
              "      <td>ham</td>\n",
              "      <td>Go until jurong point, crazy.. Available only ...</td>\n",
              "    </tr>\n",
              "    <tr>\n",
              "      <th>1</th>\n",
              "      <td>ham</td>\n",
              "      <td>Ok lar... Joking wif u oni...</td>\n",
              "    </tr>\n",
              "    <tr>\n",
              "      <th>2</th>\n",
              "      <td>spam</td>\n",
              "      <td>Free entry in 2 a wkly comp to win FA Cup fina...</td>\n",
              "    </tr>\n",
              "    <tr>\n",
              "      <th>3</th>\n",
              "      <td>ham</td>\n",
              "      <td>U dun say so early hor... U c already then say...</td>\n",
              "    </tr>\n",
              "    <tr>\n",
              "      <th>4</th>\n",
              "      <td>ham</td>\n",
              "      <td>Nah I don't think he goes to usf, he lives aro...</td>\n",
              "    </tr>\n",
              "  </tbody>\n",
              "</table>\n",
              "</div>\n",
              "      <button class=\"colab-df-convert\" onclick=\"convertToInteractive('df-ef202767-4717-41f3-9878-a2e691a64883')\"\n",
              "              title=\"Convert this dataframe to an interactive table.\"\n",
              "              style=\"display:none;\">\n",
              "        \n",
              "  <svg xmlns=\"http://www.w3.org/2000/svg\" height=\"24px\"viewBox=\"0 0 24 24\"\n",
              "       width=\"24px\">\n",
              "    <path d=\"M0 0h24v24H0V0z\" fill=\"none\"/>\n",
              "    <path d=\"M18.56 5.44l.94 2.06.94-2.06 2.06-.94-2.06-.94-.94-2.06-.94 2.06-2.06.94zm-11 1L8.5 8.5l.94-2.06 2.06-.94-2.06-.94L8.5 2.5l-.94 2.06-2.06.94zm10 10l.94 2.06.94-2.06 2.06-.94-2.06-.94-.94-2.06-.94 2.06-2.06.94z\"/><path d=\"M17.41 7.96l-1.37-1.37c-.4-.4-.92-.59-1.43-.59-.52 0-1.04.2-1.43.59L10.3 9.45l-7.72 7.72c-.78.78-.78 2.05 0 2.83L4 21.41c.39.39.9.59 1.41.59.51 0 1.02-.2 1.41-.59l7.78-7.78 2.81-2.81c.8-.78.8-2.07 0-2.86zM5.41 20L4 18.59l7.72-7.72 1.47 1.35L5.41 20z\"/>\n",
              "  </svg>\n",
              "      </button>\n",
              "      \n",
              "  <style>\n",
              "    .colab-df-container {\n",
              "      display:flex;\n",
              "      flex-wrap:wrap;\n",
              "      gap: 12px;\n",
              "    }\n",
              "\n",
              "    .colab-df-convert {\n",
              "      background-color: #E8F0FE;\n",
              "      border: none;\n",
              "      border-radius: 50%;\n",
              "      cursor: pointer;\n",
              "      display: none;\n",
              "      fill: #1967D2;\n",
              "      height: 32px;\n",
              "      padding: 0 0 0 0;\n",
              "      width: 32px;\n",
              "    }\n",
              "\n",
              "    .colab-df-convert:hover {\n",
              "      background-color: #E2EBFA;\n",
              "      box-shadow: 0px 1px 2px rgba(60, 64, 67, 0.3), 0px 1px 3px 1px rgba(60, 64, 67, 0.15);\n",
              "      fill: #174EA6;\n",
              "    }\n",
              "\n",
              "    [theme=dark] .colab-df-convert {\n",
              "      background-color: #3B4455;\n",
              "      fill: #D2E3FC;\n",
              "    }\n",
              "\n",
              "    [theme=dark] .colab-df-convert:hover {\n",
              "      background-color: #434B5C;\n",
              "      box-shadow: 0px 1px 3px 1px rgba(0, 0, 0, 0.15);\n",
              "      filter: drop-shadow(0px 1px 2px rgba(0, 0, 0, 0.3));\n",
              "      fill: #FFFFFF;\n",
              "    }\n",
              "  </style>\n",
              "\n",
              "      <script>\n",
              "        const buttonEl =\n",
              "          document.querySelector('#df-ef202767-4717-41f3-9878-a2e691a64883 button.colab-df-convert');\n",
              "        buttonEl.style.display =\n",
              "          google.colab.kernel.accessAllowed ? 'block' : 'none';\n",
              "\n",
              "        async function convertToInteractive(key) {\n",
              "          const element = document.querySelector('#df-ef202767-4717-41f3-9878-a2e691a64883');\n",
              "          const dataTable =\n",
              "            await google.colab.kernel.invokeFunction('convertToInteractive',\n",
              "                                                     [key], {});\n",
              "          if (!dataTable) return;\n",
              "\n",
              "          const docLinkHtml = 'Like what you see? Visit the ' +\n",
              "            '<a target=\"_blank\" href=https://colab.research.google.com/notebooks/data_table.ipynb>data table notebook</a>'\n",
              "            + ' to learn more about interactive tables.';\n",
              "          element.innerHTML = '';\n",
              "          dataTable['output_type'] = 'display_data';\n",
              "          await google.colab.output.renderOutput(dataTable, element);\n",
              "          const docLink = document.createElement('div');\n",
              "          docLink.innerHTML = docLinkHtml;\n",
              "          element.appendChild(docLink);\n",
              "        }\n",
              "      </script>\n",
              "    </div>\n",
              "  </div>\n",
              "  "
            ]
          },
          "metadata": {},
          "execution_count": 47
        }
      ],
      "source": [
        "df = pd.read_csv('spam.csv', encoding='latin-1')\n",
        "df = df.drop(labels = [\"Unnamed: 2\", \"Unnamed: 3\", \"Unnamed: 4\"], axis = 1)\n",
        "df.columns = [\"label\", \"message\"]\n",
        "\n",
        "df.head()"
      ]
    },
    {
      "cell_type": "markdown",
      "source": [
        "## EDA"
      ],
      "metadata": {
        "id": "Kc6PF-0aulbj"
      }
    },
    {
      "cell_type": "code",
      "source": [
        "rows, columns = df.shape\n",
        "\n",
        "print(f\"Dataset has {rows} rows and {columns} columns.\")"
      ],
      "metadata": {
        "colab": {
          "base_uri": "https://localhost:8080/"
        },
        "id": "DPfXCdzpuweg",
        "outputId": "aad1cc15-76da-4138-fa7e-3efe04c9815a"
      },
      "execution_count": null,
      "outputs": [
        {
          "output_type": "stream",
          "name": "stdout",
          "text": [
            "Dataset has 5572 rows and 2 columns.\n"
          ]
        }
      ]
    },
    {
      "cell_type": "code",
      "source": [
        "df['label'].value_counts()"
      ],
      "metadata": {
        "colab": {
          "base_uri": "https://localhost:8080/"
        },
        "id": "MdqNKueGu4Vg",
        "outputId": "242bc8b4-dfca-4304-d527-9a3ce3252f61"
      },
      "execution_count": null,
      "outputs": [
        {
          "output_type": "execute_result",
          "data": {
            "text/plain": [
              "ham     4825\n",
              "spam     747\n",
              "Name: label, dtype: int64"
            ]
          },
          "metadata": {},
          "execution_count": 49
        }
      ]
    },
    {
      "cell_type": "code",
      "source": [
        "# Check for missing values\n",
        "\n",
        "df.isnull().sum()"
      ],
      "metadata": {
        "colab": {
          "base_uri": "https://localhost:8080/"
        },
        "id": "cGEZTmQ-ucNH",
        "outputId": "24c61575-d570-456a-c80d-212bdcc503fb"
      },
      "execution_count": null,
      "outputs": [
        {
          "output_type": "execute_result",
          "data": {
            "text/plain": [
              "label      0\n",
              "message    0\n",
              "dtype: int64"
            ]
          },
          "metadata": {},
          "execution_count": 50
        }
      ]
    },
    {
      "cell_type": "markdown",
      "source": [
        "Also check if there are empty strings in the dataset\n",
        "\n",
        "This is because for databases, when a cell has no info, an empty string is used in place"
      ],
      "metadata": {
        "id": "r7vkc3Z_21uV"
      }
    },
    {
      "cell_type": "code",
      "source": [
        "blanks = []\n",
        "for iter, label, msg in df.itertuples(name=\"Ham_spam\"):\n",
        "  if msg.isspace():\n",
        "    blanks.append(1)"
      ],
      "metadata": {
        "id": "hSFs0rp03MSB"
      },
      "execution_count": null,
      "outputs": []
    },
    {
      "cell_type": "code",
      "source": [
        "# print the blanks array\n",
        "blanks"
      ],
      "metadata": {
        "colab": {
          "base_uri": "https://localhost:8080/"
        },
        "id": "MLfTVmAg3rDX",
        "outputId": "f7d7658b-bdb5-457d-ac91-4da585cfd6a6"
      },
      "execution_count": null,
      "outputs": [
        {
          "output_type": "execute_result",
          "data": {
            "text/plain": [
              "[]"
            ]
          },
          "metadata": {},
          "execution_count": 52
        }
      ]
    },
    {
      "cell_type": "markdown",
      "source": [
        "We have no empty strings..."
      ],
      "metadata": {
        "id": "bKSuoV2d35ru"
      }
    },
    {
      "cell_type": "markdown",
      "source": [
        "Let's Check the **distribution of each label in the label column**"
      ],
      "metadata": {
        "id": "rxcKwVScwHX3"
      }
    },
    {
      "cell_type": "code",
      "source": [
        "plt.rcParams.update({'font.size': 14})"
      ],
      "metadata": {
        "id": "6ejx0WLNt7Ho"
      },
      "execution_count": 148,
      "outputs": []
    },
    {
      "cell_type": "code",
      "source": [
        "category_count = df['label'].value_counts()\n",
        "\n",
        "fig , ax = plt.subplots(figsize=(20, 5))\n",
        "explode = [0.1, 0.3]\n",
        "ax.pie(category_count, labels=category_count.index, explode=explode, autopct='%1.2f%%')\n",
        "ax.set_title('Distribution of spam and ham')\n",
        "plt.show()"
      ],
      "metadata": {
        "colab": {
          "base_uri": "https://localhost:8080/",
          "height": 325
        },
        "id": "191rUgBtutqC",
        "outputId": "fc731806-5114-41cf-8919-7b63ecfb54cc"
      },
      "execution_count": 93,
      "outputs": [
        {
          "output_type": "display_data",
          "data": {
            "text/plain": [
              "<Figure size 1440x360 with 1 Axes>"
            ],
            "image/png": "[encoded data removed]"
          },
          "metadata": {}
        }
      ]
    },
    {
      "cell_type": "markdown",
      "source": [
        "### Hang on..."
      ],
      "metadata": {
        "id": "IM5f2SQY1IPH"
      }
    },
    {
      "cell_type": "markdown",
      "source": [
        "In the following section we willl define a function that will do the following:\n",
        "* Tokenize the message\n",
        "* Remove the stopwords, punctuation and convert all text to lowercase\n",
        "* Lemmatize the token\n",
        "* convert the data into vectors with TfidfVecotrizer for better performance of our model."
      ],
      "metadata": {
        "id": "TSxlrPBA0k2X"
      }
    },
    {
      "cell_type": "code",
      "source": [
        "nltk.download('stopwords')\n",
        "nltk.download('punkt')\n",
        "nltk.download('wordnet')\n",
        "nltk.download('omw-1.4')"
      ],
      "metadata": {
        "colab": {
          "base_uri": "https://localhost:8080/"
        },
        "id": "osYncjq97Ct7",
        "outputId": "106b9a70-cf7a-4447-9484-bcbf11e5a983"
      },
      "execution_count": null,
      "outputs": [
        {
          "output_type": "stream",
          "name": "stderr",
          "text": [
            "[nltk_data] Downloading package stopwords to /root/nltk_data...\n",
            "[nltk_data]   Package stopwords is already up-to-date!\n",
            "[nltk_data] Downloading package punkt to /root/nltk_data...\n",
            "[nltk_data]   Package punkt is already up-to-date!\n",
            "[nltk_data] Downloading package wordnet to /root/nltk_data...\n",
            "[nltk_data]   Package wordnet is already up-to-date!\n",
            "[nltk_data] Downloading package omw-1.4 to /root/nltk_data...\n",
            "[nltk_data]   Package omw-1.4 is already up-to-date!\n"
          ]
        },
        {
          "output_type": "execute_result",
          "data": {
            "text/plain": [
              "True"
            ]
          },
          "metadata": {},
          "execution_count": 54
        }
      ]
    },
    {
      "cell_type": "code",
      "source": [
        "import re\n",
        "\n",
        "def preprocess_mesg(message):\n",
        "\n",
        "  preprocessed_msg = []\n",
        "  # first lets convert the senetence into lower case\n",
        "  message_lower = message.lower()\n",
        "  message = re.sub(r'[^a-zA-Z0-9\\s]', ' ', message_lower)\n",
        "\n",
        "  # Remove stopwords, and punctuation\n",
        "  stopword_and_punctiation = set(stopwords.words('english') + list(string.punctuation))\n",
        "\n",
        "  message = word_tokenize(message)\n",
        "\n",
        "  lemmatizer = WordNetLemmatizer()\n",
        "\n",
        "  cleaned_message = [preprocessed_msg.append(lemmatizer.lemmatize(word)) for word in message if word not in stopword_and_punctiation]\n",
        "  cleaned_message = \" \".join(preprocessed_msg)\n",
        "  \n",
        "  return cleaned_message\n",
        "\n",
        "df['message'] = df['message'].apply(preprocess_mesg)"
      ],
      "metadata": {
        "id": "9ymIlplEooI4"
      },
      "execution_count": null,
      "outputs": []
    },
    {
      "cell_type": "code",
      "source": [
        "df.head()"
      ],
      "metadata": {
        "colab": {
          "base_uri": "https://localhost:8080/",
          "height": 206
        },
        "id": "f7FJknpz9Nxl",
        "outputId": "ec790757-d0ad-4bfb-dc20-ed3ed5885ec3"
      },
      "execution_count": null,
      "outputs": [
        {
          "output_type": "execute_result",
          "data": {
            "text/plain": [
              "  label                                            message\n",
              "0   ham  go jurong point crazy available bugis n great ...\n",
              "1   ham                            ok lar joking wif u oni\n",
              "2  spam  free entry 2 wkly comp win fa cup final tkts 2...\n",
              "3   ham                u dun say early hor u c already say\n",
              "4   ham                nah think go usf life around though"
            ],
            "text/html": [
              "\n",
              "  <div id=\"df-96e8f0a5-b38a-48f5-8dd2-be8aec9f328a\">\n",
              "    <div class=\"colab-df-container\">\n",
              "      <div>\n",
              "<style scoped>\n",
              "    .dataframe tbody tr th:only-of-type {\n",
              "        vertical-align: middle;\n",
              "    }\n",
              "\n",
              "    .dataframe tbody tr th {\n",
              "        vertical-align: top;\n",
              "    }\n",
              "\n",
              "    .dataframe thead th {\n",
              "        text-align: right;\n",
              "    }\n",
              "</style>\n",
              "<table border=\"1\" class=\"dataframe\">\n",
              "  <thead>\n",
              "    <tr style=\"text-align: right;\">\n",
              "      <th></th>\n",
              "      <th>label</th>\n",
              "      <th>message</th>\n",
              "    </tr>\n",
              "  </thead>\n",
              "  <tbody>\n",
              "    <tr>\n",
              "      <th>0</th>\n",
              "      <td>ham</td>\n",
              "      <td>go jurong point crazy available bugis n great ...</td>\n",
              "    </tr>\n",
              "    <tr>\n",
              "      <th>1</th>\n",
              "      <td>ham</td>\n",
              "      <td>ok lar joking wif u oni</td>\n",
              "    </tr>\n",
              "    <tr>\n",
              "      <th>2</th>\n",
              "      <td>spam</td>\n",
              "      <td>free entry 2 wkly comp win fa cup final tkts 2...</td>\n",
              "    </tr>\n",
              "    <tr>\n",
              "      <th>3</th>\n",
              "      <td>ham</td>\n",
              "      <td>u dun say early hor u c already say</td>\n",
              "    </tr>\n",
              "    <tr>\n",
              "      <th>4</th>\n",
              "      <td>ham</td>\n",
              "      <td>nah think go usf life around though</td>\n",
              "    </tr>\n",
              "  </tbody>\n",
              "</table>\n",
              "</div>\n",
              "      <button class=\"colab-df-convert\" onclick=\"convertToInteractive('df-96e8f0a5-b38a-48f5-8dd2-be8aec9f328a')\"\n",
              "              title=\"Convert this dataframe to an interactive table.\"\n",
              "              style=\"display:none;\">\n",
              "        \n",
              "  <svg xmlns=\"http://www.w3.org/2000/svg\" height=\"24px\"viewBox=\"0 0 24 24\"\n",
              "       width=\"24px\">\n",
              "    <path d=\"M0 0h24v24H0V0z\" fill=\"none\"/>\n",
              "    <path d=\"M18.56 5.44l.94 2.06.94-2.06 2.06-.94-2.06-.94-.94-2.06-.94 2.06-2.06.94zm-11 1L8.5 8.5l.94-2.06 2.06-.94-2.06-.94L8.5 2.5l-.94 2.06-2.06.94zm10 10l.94 2.06.94-2.06 2.06-.94-2.06-.94-.94-2.06-.94 2.06-2.06.94z\"/><path d=\"M17.41 7.96l-1.37-1.37c-.4-.4-.92-.59-1.43-.59-.52 0-1.04.2-1.43.59L10.3 9.45l-7.72 7.72c-.78.78-.78 2.05 0 2.83L4 21.41c.39.39.9.59 1.41.59.51 0 1.02-.2 1.41-.59l7.78-7.78 2.81-2.81c.8-.78.8-2.07 0-2.86zM5.41 20L4 18.59l7.72-7.72 1.47 1.35L5.41 20z\"/>\n",
              "  </svg>\n",
              "      </button>\n",
              "      \n",
              "  <style>\n",
              "    .colab-df-container {\n",
              "      display:flex;\n",
              "      flex-wrap:wrap;\n",
              "      gap: 12px;\n",
              "    }\n",
              "\n",
              "    .colab-df-convert {\n",
              "      background-color: #E8F0FE;\n",
              "      border: none;\n",
              "      border-radius: 50%;\n",
              "      cursor: pointer;\n",
              "      display: none;\n",
              "      fill: #1967D2;\n",
              "      height: 32px;\n",
              "      padding: 0 0 0 0;\n",
              "      width: 32px;\n",
              "    }\n",
              "\n",
              "    .colab-df-convert:hover {\n",
              "      background-color: #E2EBFA;\n",
              "      box-shadow: 0px 1px 2px rgba(60, 64, 67, 0.3), 0px 1px 3px 1px rgba(60, 64, 67, 0.15);\n",
              "      fill: #174EA6;\n",
              "    }\n",
              "\n",
              "    [theme=dark] .colab-df-convert {\n",
              "      background-color: #3B4455;\n",
              "      fill: #D2E3FC;\n",
              "    }\n",
              "\n",
              "    [theme=dark] .colab-df-convert:hover {\n",
              "      background-color: #434B5C;\n",
              "      box-shadow: 0px 1px 3px 1px rgba(0, 0, 0, 0.15);\n",
              "      filter: drop-shadow(0px 1px 2px rgba(0, 0, 0, 0.3));\n",
              "      fill: #FFFFFF;\n",
              "    }\n",
              "  </style>\n",
              "\n",
              "      <script>\n",
              "        const buttonEl =\n",
              "          document.querySelector('#df-96e8f0a5-b38a-48f5-8dd2-be8aec9f328a button.colab-df-convert');\n",
              "        buttonEl.style.display =\n",
              "          google.colab.kernel.accessAllowed ? 'block' : 'none';\n",
              "\n",
              "        async function convertToInteractive(key) {\n",
              "          const element = document.querySelector('#df-96e8f0a5-b38a-48f5-8dd2-be8aec9f328a');\n",
              "          const dataTable =\n",
              "            await google.colab.kernel.invokeFunction('convertToInteractive',\n",
              "                                                     [key], {});\n",
              "          if (!dataTable) return;\n",
              "\n",
              "          const docLinkHtml = 'Like what you see? Visit the ' +\n",
              "            '<a target=\"_blank\" href=https://colab.research.google.com/notebooks/data_table.ipynb>data table notebook</a>'\n",
              "            + ' to learn more about interactive tables.';\n",
              "          element.innerHTML = '';\n",
              "          dataTable['output_type'] = 'display_data';\n",
              "          await google.colab.output.renderOutput(dataTable, element);\n",
              "          const docLink = document.createElement('div');\n",
              "          docLink.innerHTML = docLinkHtml;\n",
              "          element.appendChild(docLink);\n",
              "        }\n",
              "      </script>\n",
              "    </div>\n",
              "  </div>\n",
              "  "
            ]
          },
          "metadata": {},
          "execution_count": 56
        }
      ]
    },
    {
      "cell_type": "code",
      "source": [
        "df['message']"
      ],
      "metadata": {
        "colab": {
          "base_uri": "https://localhost:8080/"
        },
        "id": "KAxFxvxu6Ibw",
        "outputId": "537f0b14-8000-42fa-b5fb-87409e0257c1"
      },
      "execution_count": null,
      "outputs": [
        {
          "output_type": "execute_result",
          "data": {
            "text/plain": [
              "0       go jurong point crazy available bugis n great ...\n",
              "1                                 ok lar joking wif u oni\n",
              "2       free entry 2 wkly comp win fa cup final tkts 2...\n",
              "3                     u dun say early hor u c already say\n",
              "4                     nah think go usf life around though\n",
              "                              ...                        \n",
              "5567    2nd time tried 2 contact u u 750 pound prize 2...\n",
              "5568                            b going esplanade fr home\n",
              "5569                                 pity mood suggestion\n",
              "5570    guy bitching acted like interested buying some...\n",
              "5571                                       rofl true name\n",
              "Name: message, Length: 5572, dtype: object"
            ]
          },
          "metadata": {},
          "execution_count": 57
        }
      ]
    },
    {
      "cell_type": "markdown",
      "source": [
        "Get the **Predictor and target variables**"
      ],
      "metadata": {
        "id": "l08moW0jz2_Q"
      }
    },
    {
      "cell_type": "code",
      "source": [
        "messages = df['message'].values # X\n",
        "labels = df['label'].values # y"
      ],
      "metadata": {
        "id": "ob-f0DEUxpfV"
      },
      "execution_count": null,
      "outputs": []
    },
    {
      "cell_type": "code",
      "source": [
        "messages.shape, labels.shape"
      ],
      "metadata": {
        "colab": {
          "base_uri": "https://localhost:8080/"
        },
        "id": "NMSUGwx3ln_c",
        "outputId": "fd4d81f0-3103-4f58-8e99-98c1971beb94"
      },
      "execution_count": null,
      "outputs": [
        {
          "output_type": "execute_result",
          "data": {
            "text/plain": [
              "((5572,), (5572,))"
            ]
          },
          "metadata": {},
          "execution_count": 59
        }
      ]
    },
    {
      "cell_type": "markdown",
      "source": [
        "Let's convert the labels into numerical values with Keras one-hot encoding\n",
        "\n",
        "We will use the `to_categorical()` method of the Keras API to do that.\n",
        "\n",
        "This is a easier replacement of using `get_dummies` or one hot encoding in sklearn"
      ],
      "metadata": {
        "id": "fEWvw0NbCPj5"
      }
    },
    {
      "cell_type": "code",
      "source": [
        "from keras.utils import to_categorical\n",
        "\n",
        "label2int = {'ham': 1, 'spam':0}\n",
        "labels = [label2int[label] for label in labels]\n",
        "labels = to_categorical(labels)"
      ],
      "metadata": {
        "id": "IyEKLrAnl81L"
      },
      "execution_count": null,
      "outputs": []
    },
    {
      "cell_type": "code",
      "source": [
        "labels"
      ],
      "metadata": {
        "colab": {
          "base_uri": "https://localhost:8080/"
        },
        "id": "0yd6F1y4muJe",
        "outputId": "4fa12e69-a3e4-4f20-a6e6-b130cc6ed379"
      },
      "execution_count": null,
      "outputs": [
        {
          "output_type": "execute_result",
          "data": {
            "text/plain": [
              "array([[0., 1.],\n",
              "       [0., 1.],\n",
              "       [1., 0.],\n",
              "       ...,\n",
              "       [0., 1.],\n",
              "       [0., 1.],\n",
              "       [0., 1.]], dtype=float32)"
            ]
          },
          "metadata": {},
          "execution_count": 61
        }
      ]
    },
    {
      "cell_type": "markdown",
      "source": [
        "Now we scale our training data"
      ],
      "metadata": {
        "id": "erkAQrRSekOZ"
      }
    },
    {
      "cell_type": "code",
      "source": [
        "X_train, X_test, y_train, y_test = train_test_split(messages, labels, test_size=0.30, random_state=42)"
      ],
      "metadata": {
        "id": "Z7h9kGrwBJtP"
      },
      "execution_count": null,
      "outputs": []
    },
    {
      "cell_type": "code",
      "source": [
        "X_train.shape, X_test.shape, y_train.shape, y_test.shape"
      ],
      "metadata": {
        "colab": {
          "base_uri": "https://localhost:8080/"
        },
        "id": "U-WaROxiBwdt",
        "outputId": "b5e678d5-992b-4b1a-aad1-5df1a4d6e148"
      },
      "execution_count": null,
      "outputs": [
        {
          "output_type": "execute_result",
          "data": {
            "text/plain": [
              "((3900,), (1672,), (3900, 2), (1672, 2))"
            ]
          },
          "metadata": {},
          "execution_count": 63
        }
      ]
    },
    {
      "cell_type": "markdown",
      "source": [
        "We split first and vectorize later as this prevents data leakage in our training set"
      ],
      "metadata": {
        "id": "v3Xa9X7AGiFm"
      }
    },
    {
      "cell_type": "markdown",
      "source": [
        "## Feature extraction with TfidfVectorizer\n",
        "\n",
        "Next let's apply the TfidfVectorizer to convert the data into a normalized form\n",
        "\n",
        "Performes better than the CounterVectorizer since it take into consideration the importance of a word thus most time weighs less important words less"
      ],
      "metadata": {
        "id": "H6EHf8G3DVOQ"
      }
    },
    {
      "cell_type": "code",
      "source": [
        "tfidfV = TfidfVectorizer()\n",
        "\n",
        "X_train_tfidfV = tfidfV.fit_transform(X_train).toarray()\n",
        "X_test_tfidfV = tfidfV.transform(X_test).toarray()"
      ],
      "metadata": {
        "id": "O2RNVmJ5Bx5o"
      },
      "execution_count": null,
      "outputs": []
    },
    {
      "cell_type": "code",
      "source": [
        "X_train_tfidfV.shape, X_test_tfidfV.shape"
      ],
      "metadata": {
        "colab": {
          "base_uri": "https://localhost:8080/"
        },
        "id": "AdlA2k6kBkru",
        "outputId": "521352c5-a63e-49ff-d5b0-48937f17f1c3"
      },
      "execution_count": null,
      "outputs": [
        {
          "output_type": "execute_result",
          "data": {
            "text/plain": [
              "((3900, 6601), (1672, 6601))"
            ]
          },
          "metadata": {},
          "execution_count": 65
        }
      ]
    },
    {
      "cell_type": "code",
      "source": [
        "# from sklearn.preprocessing import MinMaxScaler\n",
        "\n",
        "# scaler = MinMaxScaler()\n",
        "\n",
        "# scaled_X_train = scaler.fit_transform(X_train_tfidfV)\n",
        "# scaled_X_test = scaler.transform(X_test_tfidfV)"
      ],
      "metadata": {
        "id": "EhLofYQI_d_W"
      },
      "execution_count": null,
      "outputs": []
    },
    {
      "cell_type": "code",
      "source": [
        "X_train_tfidfV[30:50]"
      ],
      "metadata": {
        "colab": {
          "base_uri": "https://localhost:8080/"
        },
        "id": "1qGIf9OxHzgT",
        "outputId": "cc69ab1b-46b5-428a-ef84-e9c78580a816"
      },
      "execution_count": null,
      "outputs": [
        {
          "output_type": "execute_result",
          "data": {
            "text/plain": [
              "array([[0., 0., 0., ..., 0., 0., 0.],\n",
              "       [0., 0., 0., ..., 0., 0., 0.],\n",
              "       [0., 0., 0., ..., 0., 0., 0.],\n",
              "       ...,\n",
              "       [0., 0., 0., ..., 0., 0., 0.],\n",
              "       [0., 0., 0., ..., 0., 0., 0.],\n",
              "       [0., 0., 0., ..., 0., 0., 0.]])"
            ]
          },
          "metadata": {},
          "execution_count": 67
        }
      ]
    },
    {
      "cell_type": "code",
      "source": [
        "X_train_tfidfV.shape[1]"
      ],
      "metadata": {
        "colab": {
          "base_uri": "https://localhost:8080/"
        },
        "id": "c0Mn6KBFuIEB",
        "outputId": "a06d4c02-ec74-4586-a5c8-c5a92cd90879"
      },
      "execution_count": null,
      "outputs": [
        {
          "output_type": "execute_result",
          "data": {
            "text/plain": [
              "6601"
            ]
          },
          "metadata": {},
          "execution_count": 68
        }
      ]
    },
    {
      "cell_type": "code",
      "source": [
        "X_test_tfidfV.shape[1]"
      ],
      "metadata": {
        "colab": {
          "base_uri": "https://localhost:8080/"
        },
        "id": "AhOYm0PBnmom",
        "outputId": "39af68f4-6ae0-490a-aa17-d8248fcd4814"
      },
      "execution_count": null,
      "outputs": [
        {
          "output_type": "execute_result",
          "data": {
            "text/plain": [
              "6601"
            ]
          },
          "metadata": {},
          "execution_count": 69
        }
      ]
    },
    {
      "cell_type": "markdown",
      "source": [
        "Next we create a Keras sequential model using the input dimension equal to the size of the vectorized sentences."
      ],
      "metadata": {
        "id": "3ZYehcvvIDik"
      }
    },
    {
      "cell_type": "code",
      "source": [
        "model = Sequential()\n",
        "\n",
        "input_dim = X_train_tfidfV.shape[1]\n",
        "\n",
        "model.add(Dense(8, input_dim=input_dim, activation='relu'))\n",
        "model.add(Dense(8, input_dim=input_dim, activation='relu'))\n",
        "model.add(Dense(2, activation='softmax'))\n",
        "\n",
        "model.compile(loss='categorical_crossentropy', optimizer='adam', metrics='accuracy')"
      ],
      "metadata": {
        "id": "Dhpy1NWtH0vp"
      },
      "execution_count": null,
      "outputs": []
    },
    {
      "cell_type": "code",
      "source": [
        "model.summary()"
      ],
      "metadata": {
        "colab": {
          "base_uri": "https://localhost:8080/"
        },
        "id": "a2ees9m9J3fp",
        "outputId": "e9d8db99-986e-40d6-a31c-44fe0bdd2011"
      },
      "execution_count": null,
      "outputs": [
        {
          "output_type": "stream",
          "name": "stdout",
          "text": [
            "Model: \"sequential_1\"\n",
            "_________________________________________________________________\n",
            " Layer (type)                Output Shape              Param #   \n",
            "=================================================================\n",
            " dense_3 (Dense)             (None, 8)                 52816     \n",
            "                                                                 \n",
            " dense_4 (Dense)             (None, 8)                 72        \n",
            "                                                                 \n",
            " dense_5 (Dense)             (None, 2)                 18        \n",
            "                                                                 \n",
            "=================================================================\n",
            "Total params: 52,906\n",
            "Trainable params: 52,906\n",
            "Non-trainable params: 0\n",
            "_________________________________________________________________\n"
          ]
        }
      ]
    },
    {
      "cell_type": "markdown",
      "source": [
        "Train the model on the dataset"
      ],
      "metadata": {
        "id": "FbDBtZjVKCTP"
      }
    },
    {
      "cell_type": "code",
      "source": [
        "X_train_tfidfV.shape"
      ],
      "metadata": {
        "colab": {
          "base_uri": "https://localhost:8080/"
        },
        "id": "7kTR2ZPfCQ2V",
        "outputId": "9cb46834-4cfe-47ef-81ed-db37b5fd6951"
      },
      "execution_count": null,
      "outputs": [
        {
          "output_type": "execute_result",
          "data": {
            "text/plain": [
              "(3900, 6601)"
            ]
          },
          "metadata": {},
          "execution_count": 72
        }
      ]
    },
    {
      "cell_type": "code",
      "source": [
        "y_train.shape"
      ],
      "metadata": {
        "colab": {
          "base_uri": "https://localhost:8080/"
        },
        "id": "ZZQH6z3YEAud",
        "outputId": "5e17c6e8-026b-4127-99f9-4ccf4e00b662"
      },
      "execution_count": null,
      "outputs": [
        {
          "output_type": "execute_result",
          "data": {
            "text/plain": [
              "(3900, 2)"
            ]
          },
          "metadata": {},
          "execution_count": 73
        }
      ]
    },
    {
      "cell_type": "code",
      "source": [
        "model.fit(X_train_tfidfV, y_train, epochs=10, verbose=True, validation_data=(X_test_tfidfV, y_test) ,batch_size=10)"
      ],
      "metadata": {
        "colab": {
          "base_uri": "https://localhost:8080/"
        },
        "id": "1lYs-V-GJ79D",
        "outputId": "bd248934-f190-48eb-cf38-52f8da71ddee"
      },
      "execution_count": null,
      "outputs": [
        {
          "output_type": "stream",
          "name": "stdout",
          "text": [
            "Epoch 1/10\n",
            "390/390 [==============================] - 3s 6ms/step - loss: 0.3850 - accuracy: 0.8769 - val_loss: 0.1511 - val_accuracy: 0.9545\n",
            "Epoch 2/10\n",
            "390/390 [==============================] - 2s 6ms/step - loss: 0.0737 - accuracy: 0.9815 - val_loss: 0.0739 - val_accuracy: 0.9761\n",
            "Epoch 3/10\n",
            "390/390 [==============================] - 4s 10ms/step - loss: 0.0250 - accuracy: 0.9941 - val_loss: 0.0682 - val_accuracy: 0.9815\n",
            "Epoch 4/10\n",
            "390/390 [==============================] - 5s 12ms/step - loss: 0.0122 - accuracy: 0.9977 - val_loss: 0.0683 - val_accuracy: 0.9827\n",
            "Epoch 5/10\n",
            "390/390 [==============================] - 3s 8ms/step - loss: 0.0066 - accuracy: 0.9990 - val_loss: 0.0705 - val_accuracy: 0.9827\n",
            "Epoch 6/10\n",
            "390/390 [==============================] - 3s 8ms/step - loss: 0.0040 - accuracy: 0.9992 - val_loss: 0.0761 - val_accuracy: 0.9809\n",
            "Epoch 7/10\n",
            "390/390 [==============================] - 4s 11ms/step - loss: 0.0026 - accuracy: 0.9995 - val_loss: 0.0828 - val_accuracy: 0.9803\n",
            "Epoch 8/10\n",
            "390/390 [==============================] - 5s 12ms/step - loss: 0.0016 - accuracy: 0.9997 - val_loss: 0.0848 - val_accuracy: 0.9809\n",
            "Epoch 9/10\n",
            "390/390 [==============================] - 4s 11ms/step - loss: 9.8286e-04 - accuracy: 1.0000 - val_loss: 0.0897 - val_accuracy: 0.9803\n",
            "Epoch 10/10\n",
            "390/390 [==============================] - 4s 9ms/step - loss: 6.5115e-04 - accuracy: 1.0000 - val_loss: 0.0925 - val_accuracy: 0.9803\n"
          ]
        },
        {
          "output_type": "execute_result",
          "data": {
            "text/plain": [
              "<keras.callbacks.History at 0x7f1481d399d0>"
            ]
          },
          "metadata": {},
          "execution_count": 74
        }
      ]
    },
    {
      "cell_type": "markdown",
      "source": [
        "## Evaluating the model"
      ],
      "metadata": {
        "id": "edR1wN2fLU4g"
      }
    },
    {
      "cell_type": "code",
      "source": [
        "y_test"
      ],
      "metadata": {
        "colab": {
          "base_uri": "https://localhost:8080/"
        },
        "id": "1Yqou_gFJXYn",
        "outputId": "ee606214-ad6c-4a9b-9962-a76fb6ed1dff"
      },
      "execution_count": null,
      "outputs": [
        {
          "output_type": "execute_result",
          "data": {
            "text/plain": [
              "array([[0., 1.],\n",
              "       [0., 1.],\n",
              "       [1., 0.],\n",
              "       ...,\n",
              "       [0., 1.],\n",
              "       [0., 1.],\n",
              "       [0., 1.]], dtype=float32)"
            ]
          },
          "metadata": {},
          "execution_count": 75
        }
      ]
    },
    {
      "cell_type": "markdown",
      "source": [
        "Make predictions...\n",
        "\n",
        "We will round the y_test and preds data into "
      ],
      "metadata": {
        "id": "ivenOBRuJuej"
      }
    },
    {
      "cell_type": "code",
      "source": [
        "preds = (model.predict(X_test_tfidfV) > 0.5).astype(\"int32\")\n",
        "\n",
        "preds"
      ],
      "metadata": {
        "colab": {
          "base_uri": "https://localhost:8080/"
        },
        "id": "sW6pUCvuJrpj",
        "outputId": "64f51d66-9a9b-4385-d876-e9583776845d"
      },
      "execution_count": null,
      "outputs": [
        {
          "output_type": "stream",
          "name": "stdout",
          "text": [
            "53/53 [==============================] - 0s 6ms/step\n"
          ]
        },
        {
          "output_type": "execute_result",
          "data": {
            "text/plain": [
              "array([[0, 1],\n",
              "       [0, 1],\n",
              "       [1, 0],\n",
              "       ...,\n",
              "       [0, 1],\n",
              "       [0, 1],\n",
              "       [0, 1]], dtype=int32)"
            ]
          },
          "metadata": {},
          "execution_count": 76
        }
      ]
    },
    {
      "cell_type": "code",
      "source": [
        "y_test"
      ],
      "metadata": {
        "colab": {
          "base_uri": "https://localhost:8080/"
        },
        "id": "rFxqCZUcJD_o",
        "outputId": "374bc8ff-848f-4695-f611-00b091c76a1b"
      },
      "execution_count": null,
      "outputs": [
        {
          "output_type": "execute_result",
          "data": {
            "text/plain": [
              "array([[0., 1.],\n",
              "       [0., 1.],\n",
              "       [1., 0.],\n",
              "       ...,\n",
              "       [0., 1.],\n",
              "       [0., 1.],\n",
              "       [0., 1.]], dtype=float32)"
            ]
          },
          "metadata": {},
          "execution_count": 77
        }
      ]
    },
    {
      "cell_type": "code",
      "source": [
        "\n"
      ],
      "metadata": {
        "colab": {
          "base_uri": "https://localhost:8080/"
        },
        "id": "WvDdXzZgA-LB",
        "outputId": "09fe62b5-9cf1-4642-898a-795e904e8dba"
      },
      "execution_count": 98,
      "outputs": [
        {
          "output_type": "execute_result",
          "data": {
            "text/plain": [
              "array([1, 1, 0, ..., 1, 1, 1])"
            ]
          },
          "metadata": {},
          "execution_count": 98
        }
      ]
    },
    {
      "cell_type": "code",
      "source": [
        "y_test = np.argmax(y_test, axis=1)\n",
        "preds = np.argmax(preds, axis=1)"
      ],
      "metadata": {
        "id": "E-tmGQqCKyK8"
      },
      "execution_count": null,
      "outputs": []
    },
    {
      "cell_type": "code",
      "source": [
        "cf_matrix = confusion_matrix(y_test, preds)\n",
        "cf_matrix"
      ],
      "metadata": {
        "id": "El4kMezUKr81",
        "colab": {
          "base_uri": "https://localhost:8080/"
        },
        "outputId": "98382f28-abdd-41e4-f733-b95c11f031da"
      },
      "execution_count": 137,
      "outputs": [
        {
          "output_type": "execute_result",
          "data": {
            "text/plain": [
              "array([[ 188,   31],\n",
              "       [   2, 1451]])"
            ]
          },
          "metadata": {},
          "execution_count": 137
        }
      ]
    },
    {
      "cell_type": "code",
      "source": [
        "from matplotlib.pyplot import figure\n",
        "\n",
        "figure(figsize=(8, 4), dpi=80)\n",
        "sns.heatmap(pd.DataFrame(cf_matrix), annot=True, cmap=\"YlGnBu\" ,fmt='g', cbar=False)\n",
        "plt.title('Confusion matrix', y=1.1)\n",
        "plt.ylabel('Actual label')\n",
        "plt.xlabel('Predicted label')"
      ],
      "metadata": {
        "colab": {
          "base_uri": "https://localhost:8080/",
          "height": 355
        },
        "id": "o2YhsWfgMcnj",
        "outputId": "22bda375-d724-4d3b-c8fe-3d1d42d71de6"
      },
      "execution_count": 151,
      "outputs": [
        {
          "output_type": "execute_result",
          "data": {
            "text/plain": [
              "Text(0.5, 12.777777777777777, 'Predicted label')"
            ]
          },
          "metadata": {},
          "execution_count": 151
        },
        {
          "output_type": "display_data",
          "data": {
            "text/plain": [
              "<Figure size 640x320 with 1 Axes>"
            ],
            "image/png": "[encoded data removed]"
          },
          "metadata": {
            "needs_background": "light"
          }
        }
      ]
    },
    {
      "cell_type": "code",
      "source": [
        "print(classification_report(y_test, preds))"
      ],
      "metadata": {
        "colab": {
          "base_uri": "https://localhost:8080/"
        },
        "id": "heTmlHd-MPnU",
        "outputId": "52fc216b-7640-4fee-c818-bd1f916be6db"
      },
      "execution_count": null,
      "outputs": [
        {
          "output_type": "stream",
          "name": "stdout",
          "text": [
            "              precision    recall  f1-score   support\n",
            "\n",
            "           0       0.99      0.86      0.92       219\n",
            "           1       0.98      1.00      0.99      1453\n",
            "\n",
            "    accuracy                           0.98      1672\n",
            "   macro avg       0.98      0.93      0.95      1672\n",
            "weighted avg       0.98      0.98      0.98      1672\n",
            "\n"
          ]
        }
      ]
    },
    {
      "cell_type": "markdown",
      "source": [
        "Log Confusion matrix on comet"
      ],
      "metadata": {
        "id": "wNArNJjRaJPk"
      }
    },
    {
      "cell_type": "code",
      "source": [
        "experiment.log_confusion_matrix(y_test, preds, title=\"Confusion Matrix\", row_label=\"Actual Category\",\n",
        "    column_label=\"Predicted Category\",)"
      ],
      "metadata": {
        "id": "Y2bRimXxaH8l"
      },
      "execution_count": null,
      "outputs": []
    },
    {
      "cell_type": "code",
      "source": [
        "experiment.end()"
      ],
      "metadata": {
        "colab": {
          "base_uri": "https://localhost:8080/"
        },
        "id": "Hy6oAaDOXjVW",
        "outputId": "ff223914-f77b-4237-b32f-460dfee462f4"
      },
      "execution_count": null,
      "outputs": [
        {
          "output_type": "stream",
          "name": "stderr",
          "text": [
            "COMET INFO: ---------------------------\n",
            "COMET INFO: Comet.ml Experiment Summary\n",
            "COMET INFO: ---------------------------\n",
            "COMET INFO:   Data:\n",
            "COMET INFO:     display_summary_level : 1\n",
            "COMET INFO:     url                   : https://www.comet.com/b-capt/email-spam-classifier/ca367a014e914ddfb46e45d6951c257b\n",
            "COMET INFO:   Metrics [count] (min, max):\n",
            "COMET INFO:     accuracy [10]                 : (0.8769230842590332, 1.0)\n",
            "COMET INFO:     batch_accuracy [390]          : (0.30000001192092896, 1.0)\n",
            "COMET INFO:     batch_loss [390]              : (0.00015055654512252659, 0.6940392255783081)\n",
            "COMET INFO:     epoch_duration [10]           : (2.2200146290015255, 4.6255158399981156)\n",
            "COMET INFO:     loss [10]                     : (0.0006511537358164787, 0.38500460982322693)\n",
            "COMET INFO:     val_accuracy [10]             : (0.9545454382896423, 0.9826555252075195)\n",
            "COMET INFO:     val_loss [10]                 : (0.06815937906503677, 0.15109741687774658)\n",
            "COMET INFO:     validate_batch_accuracy [170] : (0.8999999761581421, 1.0)\n",
            "COMET INFO:     validate_batch_loss [170]     : (0.01107335276901722, 0.17637859284877777)\n",
            "COMET INFO:   Others:\n",
            "COMET INFO:     trainable_params : 52906\n",
            "COMET INFO:   Parameters:\n",
            "COMET INFO:     Adam_amsgrad                 : False\n",
            "COMET INFO:     Adam_beta_1                  : 0.9\n",
            "COMET INFO:     Adam_beta_2                  : 0.999\n",
            "COMET INFO:     Adam_clipnorm                : 1\n",
            "COMET INFO:     Adam_clipvalue               : 1\n",
            "COMET INFO:     Adam_ema_momentum            : 0.99\n",
            "COMET INFO:     Adam_ema_overwrite_frequency : 1\n",
            "COMET INFO:     Adam_epsilon                 : 1e-07\n",
            "COMET INFO:     Adam_global_clipnorm         : 1\n",
            "COMET INFO:     Adam_is_legacy_optimizer     : False\n",
            "COMET INFO:     Adam_jit_compile             : False\n",
            "COMET INFO:     Adam_learning_rate           : 0.0010000000474974513\n",
            "COMET INFO:     Adam_name                    : Adam\n",
            "COMET INFO:     Adam_use_ema                 : False\n",
            "COMET INFO:     Adam_weight_decay            : 1\n",
            "COMET INFO:     epochs                       : 10\n",
            "COMET INFO:     norm                         : l2\n",
            "COMET INFO:     smooth_idf                   : True\n",
            "COMET INFO:     steps                        : 390\n",
            "COMET INFO:     sublinear_tf                 : False\n",
            "COMET INFO:     use_idf                      : True\n",
            "COMET INFO:   Uploads:\n",
            "COMET INFO:     confusion-matrix    : 1\n",
            "COMET INFO:     environment details : 1\n",
            "COMET INFO:     filename            : 1\n",
            "COMET INFO:     histogram3d         : 99\n",
            "COMET INFO:     installed packages  : 1\n",
            "COMET INFO:     model graph         : 1\n",
            "COMET INFO:     notebook            : 2\n",
            "COMET INFO:     os packages         : 1\n",
            "COMET INFO:     source_code         : 1\n",
            "COMET INFO: ---------------------------\n",
            "COMET INFO: Uploading 1 metrics, params and output messages\n"
          ]
        }
      ]
    }
  ]
}